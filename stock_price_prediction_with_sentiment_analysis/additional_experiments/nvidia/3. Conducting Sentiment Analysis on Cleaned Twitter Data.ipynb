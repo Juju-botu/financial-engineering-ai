{
 "cells": [
  {
   "cell_type": "markdown",
   "metadata": {},
   "source": [
    "# Introduction to Financial Engineering [IE471]\n",
    "##  Hands-on Practice on Financial AI Session #2"
   ]
  },
  {
   "cell_type": "code",
   "execution_count": 3,
   "metadata": {},
   "outputs": [],
   "source": [
    "# Import necessary libraries\n",
    "\n",
    "import pandas as pd\n",
    "import matplotlib.pyplot as plt\n",
    "import nltk\n",
    "import re\n",
    "from textblob import TextBlob\n",
    "%matplotlib inline\n",
    "import seaborn as sns\n"
   ]
  },
  {
   "cell_type": "code",
   "execution_count": 4,
   "metadata": {
    "scrolled": true
   },
   "outputs": [
    {
     "data": {
      "text/html": [
       "<div>\n",
       "<style scoped>\n",
       "    .dataframe tbody tr th:only-of-type {\n",
       "        vertical-align: middle;\n",
       "    }\n",
       "\n",
       "    .dataframe tbody tr th {\n",
       "        vertical-align: top;\n",
       "    }\n",
       "\n",
       "    .dataframe thead th {\n",
       "        text-align: right;\n",
       "    }\n",
       "</style>\n",
       "<table border=\"1\" class=\"dataframe\">\n",
       "  <thead>\n",
       "    <tr style=\"text-align: right;\">\n",
       "      <th></th>\n",
       "      <th>id</th>\n",
       "      <th>date</th>\n",
       "      <th>cleaned_tweet</th>\n",
       "    </tr>\n",
       "  </thead>\n",
       "  <tbody>\n",
       "    <tr>\n",
       "      <th>0</th>\n",
       "      <td>1212423892784078848</td>\n",
       "      <td>2020-01-02</td>\n",
       "      <td>pick decade roku roku tradedesk ttd alteryex a...</td>\n",
       "    </tr>\n",
       "    <tr>\n",
       "      <th>1</th>\n",
       "      <td>1212388005337395200</td>\n",
       "      <td>2020-01-02</td>\n",
       "      <td>recent earnings uarter  beat earnings revenue ...</td>\n",
       "    </tr>\n",
       "    <tr>\n",
       "      <th>2</th>\n",
       "      <td>1212327513906499584</td>\n",
       "      <td>2020-01-01</td>\n",
       "      <td>enters uptrend momentum indicator exceed leve...</td>\n",
       "    </tr>\n",
       "    <tr>\n",
       "      <th>3</th>\n",
       "      <td>1212295019937378305</td>\n",
       "      <td>2020-01-01</td>\n",
       "      <td>benchmark boost   price target</td>\n",
       "    </tr>\n",
       "    <tr>\n",
       "      <th>4</th>\n",
       "      <td>1212285745848827905</td>\n",
       "      <td>2020-01-01</td>\n",
       "      <td>buy  stock rebound demand come analyst say bar...</td>\n",
       "    </tr>\n",
       "  </tbody>\n",
       "</table>\n",
       "</div>"
      ],
      "text/plain": [
       "                    id        date  \\\n",
       "0  1212423892784078848  2020-01-02   \n",
       "1  1212388005337395200  2020-01-02   \n",
       "2  1212327513906499584  2020-01-01   \n",
       "3  1212295019937378305  2020-01-01   \n",
       "4  1212285745848827905  2020-01-01   \n",
       "\n",
       "                                       cleaned_tweet  \n",
       "0  pick decade roku roku tradedesk ttd alteryex a...  \n",
       "1  recent earnings uarter  beat earnings revenue ...  \n",
       "2   enters uptrend momentum indicator exceed leve...  \n",
       "3                     benchmark boost   price target  \n",
       "4  buy  stock rebound demand come analyst say bar...  "
      ]
     },
     "execution_count": 4,
     "metadata": {},
     "output_type": "execute_result"
    }
   ],
   "source": [
    "# Read in and preview 'cleaned_data.csv'\n",
    "tweets = pd.read_csv('data/cleaned_data.csv', lineterminator='\\n') # fix problem thank to 'lineterminator'\n",
    "tweets = tweets.iloc[:, [0, 1, 4]]\n",
    "tweets.head()"
   ]
  },
  {
   "cell_type": "code",
   "execution_count": 5,
   "metadata": {},
   "outputs": [
    {
     "name": "stdout",
     "output_type": "stream",
     "text": [
      "<class 'pandas.core.frame.DataFrame'>\n",
      "RangeIndex: 49437 entries, 0 to 49436\n",
      "Data columns (total 3 columns):\n",
      " #   Column         Non-Null Count  Dtype \n",
      "---  ------         --------------  ----- \n",
      " 0   id             49437 non-null  int64 \n",
      " 1   date           49437 non-null  object\n",
      " 2   cleaned_tweet  49208 non-null  object\n",
      "dtypes: int64(1), object(2)\n",
      "memory usage: 1.1+ MB\n"
     ]
    }
   ],
   "source": [
    "# Look at nvida_tweets data types\n",
    "\n",
    "tweets.info()"
   ]
  },
  {
   "cell_type": "code",
   "execution_count": 6,
   "metadata": {},
   "outputs": [
    {
     "name": "stdout",
     "output_type": "stream",
     "text": [
      "<class 'pandas.core.frame.DataFrame'>\n",
      "RangeIndex: 49437 entries, 0 to 49436\n",
      "Data columns (total 3 columns):\n",
      " #   Column         Non-Null Count  Dtype         \n",
      "---  ------         --------------  -----         \n",
      " 0   id             49437 non-null  int64         \n",
      " 1   date           49437 non-null  datetime64[ns]\n",
      " 2   cleaned_tweet  49208 non-null  object        \n",
      "dtypes: datetime64[ns](1), int64(1), object(1)\n",
      "memory usage: 1.1+ MB\n"
     ]
    }
   ],
   "source": [
    "# Convert date_time column into datetime stamp\n",
    "\n",
    "tweets.date = pd.to_datetime(tweets.date)\n",
    "tweets.info()"
   ]
  },
  {
   "cell_type": "code",
   "execution_count": 7,
   "metadata": {},
   "outputs": [
    {
     "data": {
      "text/plain": [
       "id                 0\n",
       "date               0\n",
       "cleaned_tweet    229\n",
       "dtype: int64"
      ]
     },
     "execution_count": 7,
     "metadata": {},
     "output_type": "execute_result"
    }
   ],
   "source": [
    "# Check for null values\n",
    "\n",
    "tweets.isnull().sum()"
   ]
  },
  {
   "cell_type": "code",
   "execution_count": 8,
   "metadata": {},
   "outputs": [],
   "source": [
    "# Drop null values\n",
    "\n",
    "tweets = tweets.dropna()"
   ]
  },
  {
   "cell_type": "markdown",
   "metadata": {},
   "source": [
    "### 1. Calculate Sentiment Score with TextBlob"
   ]
  },
  {
   "cell_type": "code",
   "execution_count": 9,
   "metadata": {},
   "outputs": [
    {
     "data": {
      "text/html": [
       "<div>\n",
       "<style scoped>\n",
       "    .dataframe tbody tr th:only-of-type {\n",
       "        vertical-align: middle;\n",
       "    }\n",
       "\n",
       "    .dataframe tbody tr th {\n",
       "        vertical-align: top;\n",
       "    }\n",
       "\n",
       "    .dataframe thead th {\n",
       "        text-align: right;\n",
       "    }\n",
       "</style>\n",
       "<table border=\"1\" class=\"dataframe\">\n",
       "  <thead>\n",
       "    <tr style=\"text-align: right;\">\n",
       "      <th></th>\n",
       "      <th>id</th>\n",
       "      <th>date</th>\n",
       "      <th>cleaned_tweet</th>\n",
       "      <th>sentiment</th>\n",
       "    </tr>\n",
       "  </thead>\n",
       "  <tbody>\n",
       "    <tr>\n",
       "      <th>0</th>\n",
       "      <td>1212423892784078848</td>\n",
       "      <td>2020-01-02</td>\n",
       "      <td>pick decade roku roku tradedesk ttd alteryex a...</td>\n",
       "      <td>0.0</td>\n",
       "    </tr>\n",
       "    <tr>\n",
       "      <th>1</th>\n",
       "      <td>1212388005337395200</td>\n",
       "      <td>2020-01-02</td>\n",
       "      <td>recent earnings uarter  beat earnings revenue ...</td>\n",
       "      <td>0.0</td>\n",
       "    </tr>\n",
       "    <tr>\n",
       "      <th>2</th>\n",
       "      <td>1212327513906499584</td>\n",
       "      <td>2020-01-01</td>\n",
       "      <td>enters uptrend momentum indicator exceed leve...</td>\n",
       "      <td>0.0</td>\n",
       "    </tr>\n",
       "    <tr>\n",
       "      <th>3</th>\n",
       "      <td>1212295019937378305</td>\n",
       "      <td>2020-01-01</td>\n",
       "      <td>benchmark boost   price target</td>\n",
       "      <td>0.0</td>\n",
       "    </tr>\n",
       "    <tr>\n",
       "      <th>4</th>\n",
       "      <td>1212285745848827905</td>\n",
       "      <td>2020-01-01</td>\n",
       "      <td>buy  stock rebound demand come analyst say bar...</td>\n",
       "      <td>0.0</td>\n",
       "    </tr>\n",
       "  </tbody>\n",
       "</table>\n",
       "</div>"
      ],
      "text/plain": [
       "                    id       date  \\\n",
       "0  1212423892784078848 2020-01-02   \n",
       "1  1212388005337395200 2020-01-02   \n",
       "2  1212327513906499584 2020-01-01   \n",
       "3  1212295019937378305 2020-01-01   \n",
       "4  1212285745848827905 2020-01-01   \n",
       "\n",
       "                                       cleaned_tweet  sentiment  \n",
       "0  pick decade roku roku tradedesk ttd alteryex a...        0.0  \n",
       "1  recent earnings uarter  beat earnings revenue ...        0.0  \n",
       "2   enters uptrend momentum indicator exceed leve...        0.0  \n",
       "3                     benchmark boost   price target        0.0  \n",
       "4  buy  stock rebound demand come analyst say bar...        0.0  "
      ]
     },
     "execution_count": 9,
     "metadata": {},
     "output_type": "execute_result"
    }
   ],
   "source": [
    "# Use TextBlob to get sentiment scores\n",
    "\n",
    "tweets['sentiment'] = tweets.apply(lambda row: TextBlob(row.cleaned_tweet).sentiment[0], axis=1)\n",
    "tweets.head()"
   ]
  },
  {
   "cell_type": "code",
   "execution_count": 10,
   "metadata": {},
   "outputs": [
    {
     "data": {
      "text/html": [
       "<div>\n",
       "<style scoped>\n",
       "    .dataframe tbody tr th:only-of-type {\n",
       "        vertical-align: middle;\n",
       "    }\n",
       "\n",
       "    .dataframe tbody tr th {\n",
       "        vertical-align: top;\n",
       "    }\n",
       "\n",
       "    .dataframe thead th {\n",
       "        text-align: right;\n",
       "    }\n",
       "</style>\n",
       "<table border=\"1\" class=\"dataframe\">\n",
       "  <thead>\n",
       "    <tr style=\"text-align: right;\">\n",
       "      <th></th>\n",
       "      <th>Cleaned Tweet</th>\n",
       "      <th>TextBlob Sentiment</th>\n",
       "    </tr>\n",
       "  </thead>\n",
       "  <tbody>\n",
       "    <tr>\n",
       "      <th>30408</th>\n",
       "      <td>nuevos ximos hist rico</td>\n",
       "      <td>0.00</td>\n",
       "    </tr>\n",
       "    <tr>\n",
       "      <th>34341</th>\n",
       "      <td>dgx station offer researcher ai data center box</td>\n",
       "      <td>-0.10</td>\n",
       "    </tr>\n",
       "    <tr>\n",
       "      <th>27151</th>\n",
       "      <td>name john dabiri board director</td>\n",
       "      <td>0.00</td>\n",
       "    </tr>\n",
       "    <tr>\n",
       "      <th>17225</th>\n",
       "      <td>day move average crossed day move average november view odds indicator</td>\n",
       "      <td>-0.15</td>\n",
       "    </tr>\n",
       "    <tr>\n",
       "      <th>13958</th>\n",
       "      <td>surgi como una de la empresas de chip de alto rendimiento durante esta crisis sanitarium global esta es una de tres acciones seguir en</td>\n",
       "      <td>0.00</td>\n",
       "    </tr>\n",
       "    <tr>\n",
       "      <th>17265</th>\n",
       "      <td>aapl  apple stock amp  stock huge explosion ahead boom bust  aapl  apple</td>\n",
       "      <td>0.40</td>\n",
       "    </tr>\n",
       "    <tr>\n",
       "      <th>8417</th>\n",
       "      <td>option  maxpain chart open interest chart update  optionstrading  optionsflow  optionstrade  optiontrading  stock  stock  stockmarket  investment  invest  invest  investor  investor  uoa</td>\n",
       "      <td>0.00</td>\n",
       "    </tr>\n",
       "    <tr>\n",
       "      <th>22935</th>\n",
       "      <td>corporation  management present deutsche bank virtual technology conference transcript</td>\n",
       "      <td>0.00</td>\n",
       "    </tr>\n",
       "    <tr>\n",
       "      <th>12823</th>\n",
       "      <td>post huge  earnings beat next</td>\n",
       "      <td>0.20</td>\n",
       "    </tr>\n",
       "    <tr>\n",
       "      <th>42641</th>\n",
       "      <td>option  maxpain chart open interest chart update  optionstrading  optionsflow  optionstrade  optiontrading  stock  stock  stockmarket  investment  invest  invest  investor  investor  uoa</td>\n",
       "      <td>0.00</td>\n",
       "    </tr>\n",
       "  </tbody>\n",
       "</table>\n",
       "</div>"
      ],
      "text/plain": [
       "                                                                                                                                                                                        Cleaned Tweet  \\\n",
       "30408                                                                                                                                                                         nuevos ximos hist rico    \n",
       "34341                                                                                                                                                 dgx station offer researcher ai data center box   \n",
       "27151                                                                                                                                                                name john dabiri board director    \n",
       "17225                                                                                                                          day move average crossed day move average november view odds indicator   \n",
       "13958                                                          surgi como una de la empresas de chip de alto rendimiento durante esta crisis sanitarium global esta es una de tres acciones seguir en   \n",
       "17265                                                                                                                    aapl  apple stock amp  stock huge explosion ahead boom bust  aapl  apple       \n",
       "8417       option  maxpain chart open interest chart update  optionstrading  optionsflow  optionstrade  optiontrading  stock  stock  stockmarket  investment  invest  invest  investor  investor  uoa   \n",
       "22935                                                                                                          corporation  management present deutsche bank virtual technology conference transcript   \n",
       "12823                                                                                                                                                                  post huge  earnings beat next    \n",
       "42641      option  maxpain chart open interest chart update  optionstrading  optionsflow  optionstrade  optiontrading  stock  stock  stockmarket  investment  invest  invest  investor  investor  uoa   \n",
       "\n",
       "       TextBlob Sentiment  \n",
       "30408                0.00  \n",
       "34341               -0.10  \n",
       "27151                0.00  \n",
       "17225               -0.15  \n",
       "13958                0.00  \n",
       "17265                0.40  \n",
       "8417                 0.00  \n",
       "22935                0.00  \n",
       "12823                0.20  \n",
       "42641                0.00  "
      ]
     },
     "execution_count": 10,
     "metadata": {},
     "output_type": "execute_result"
    }
   ],
   "source": [
    "# Preview how sentiment scores differ on different tweets\n",
    "\n",
    "pd.options.display.max_colwidth = 300\n",
    "random_subset = tweets.sample(n=10)\n",
    "random_subset = random_subset.drop(columns=['id', 'date'])\n",
    "random_subset.rename(columns={'tweet':'Original Tweet'})\n",
    "random_subset = random_subset.rename(columns={'tweet': 'Original Tweet', 'cleaned_tweet': 'Cleaned Tweet', 'sentiment':'TextBlob Sentiment'})\n",
    "random_subset.head(10)"
   ]
  },
  {
   "cell_type": "code",
   "execution_count": 11,
   "metadata": {},
   "outputs": [
    {
     "data": {
      "text/plain": [
       "(49208, 4)"
      ]
     },
     "execution_count": 11,
     "metadata": {},
     "output_type": "execute_result"
    }
   ],
   "source": [
    "tweets.shape"
   ]
  },
  {
   "cell_type": "markdown",
   "metadata": {},
   "source": [
    "### 2. Frequency Analysis"
   ]
  },
  {
   "cell_type": "code",
   "execution_count": 12,
   "metadata": {},
   "outputs": [
    {
     "data": {
      "image/png": "[encoded data removed]",
      "text/plain": [
       "<Figure size 1152x648 with 1 Axes>"
      ]
     },
     "metadata": {
      "needs_background": "light"
     },
     "output_type": "display_data"
    }
   ],
   "source": [
    "# View count of tweets for binned sentiment\n",
    "\n",
    "bins = [-1.0, -0.8, -0.6, -.4, -.2, 0, 0.2, 0.4, 0.6, 0.8, 1]\n",
    "tweets['binned'] = pd.cut(tweets['sentiment'], bins)\n",
    "plt.figure(figsize=(16,9))\n",
    "ax = sns.countplot(x=tweets['binned'])\n",
    "ax.set_ylabel('Number of Tweets', fontsize=12)\n",
    "ax.set_xlabel('TextBlob Sentiment Score', fontsize=12)\n",
    "ax.set_xticklabels(ax.get_xticklabels(), rotation=40, ha=\"right\", fontsize=14)\n",
    "ax.set_title(\"Sentiment Tweet Counts\", fontsize=20)\n",
    "ax.set_ylim(0, 120000)\n",
    "plt.show()"
   ]
  },
  {
   "cell_type": "markdown",
   "metadata": {},
   "source": [
    "### 3. Calculate Daily Sentiment"
   ]
  },
  {
   "cell_type": "code",
   "execution_count": 13,
   "metadata": {},
   "outputs": [
    {
     "data": {
      "text/html": [
       "<div>\n",
       "<style scoped>\n",
       "    .dataframe tbody tr th:only-of-type {\n",
       "        vertical-align: middle;\n",
       "    }\n",
       "\n",
       "    .dataframe tbody tr th {\n",
       "        vertical-align: top;\n",
       "    }\n",
       "\n",
       "    .dataframe thead th {\n",
       "        text-align: right;\n",
       "    }\n",
       "</style>\n",
       "<table border=\"1\" class=\"dataframe\">\n",
       "  <thead>\n",
       "    <tr style=\"text-align: right;\">\n",
       "      <th></th>\n",
       "      <th>date</th>\n",
       "      <th>sentiment</th>\n",
       "    </tr>\n",
       "  </thead>\n",
       "  <tbody>\n",
       "    <tr>\n",
       "      <th>0</th>\n",
       "      <td>2020-01-02</td>\n",
       "      <td>0.0</td>\n",
       "    </tr>\n",
       "    <tr>\n",
       "      <th>1</th>\n",
       "      <td>2020-01-02</td>\n",
       "      <td>0.0</td>\n",
       "    </tr>\n",
       "    <tr>\n",
       "      <th>2</th>\n",
       "      <td>2020-01-01</td>\n",
       "      <td>0.0</td>\n",
       "    </tr>\n",
       "    <tr>\n",
       "      <th>3</th>\n",
       "      <td>2020-01-01</td>\n",
       "      <td>0.0</td>\n",
       "    </tr>\n",
       "    <tr>\n",
       "      <th>4</th>\n",
       "      <td>2020-01-01</td>\n",
       "      <td>0.0</td>\n",
       "    </tr>\n",
       "  </tbody>\n",
       "</table>\n",
       "</div>"
      ],
      "text/plain": [
       "        date  sentiment\n",
       "0 2020-01-02        0.0\n",
       "1 2020-01-02        0.0\n",
       "2 2020-01-01        0.0\n",
       "3 2020-01-01        0.0\n",
       "4 2020-01-01        0.0"
      ]
     },
     "execution_count": 13,
     "metadata": {},
     "output_type": "execute_result"
    }
   ],
   "source": [
    "daily_sentiment = tweets[['date', 'sentiment']]\n",
    "daily_sentiment.head()"
   ]
  },
  {
   "cell_type": "code",
   "execution_count": 14,
   "metadata": {},
   "outputs": [
    {
     "data": {
      "text/html": [
       "<div>\n",
       "<style scoped>\n",
       "    .dataframe tbody tr th:only-of-type {\n",
       "        vertical-align: middle;\n",
       "    }\n",
       "\n",
       "    .dataframe tbody tr th {\n",
       "        vertical-align: top;\n",
       "    }\n",
       "\n",
       "    .dataframe thead th {\n",
       "        text-align: right;\n",
       "    }\n",
       "</style>\n",
       "<table border=\"1\" class=\"dataframe\">\n",
       "  <thead>\n",
       "    <tr style=\"text-align: right;\">\n",
       "      <th></th>\n",
       "      <th>sentiment</th>\n",
       "    </tr>\n",
       "    <tr>\n",
       "      <th>date</th>\n",
       "      <th></th>\n",
       "    </tr>\n",
       "  </thead>\n",
       "  <tbody>\n",
       "    <tr>\n",
       "      <th>2020-01-01</th>\n",
       "      <td>-0.031250</td>\n",
       "    </tr>\n",
       "    <tr>\n",
       "      <th>2020-01-02</th>\n",
       "      <td>0.085606</td>\n",
       "    </tr>\n",
       "    <tr>\n",
       "      <th>2020-01-03</th>\n",
       "      <td>0.066609</td>\n",
       "    </tr>\n",
       "    <tr>\n",
       "      <th>2020-01-04</th>\n",
       "      <td>0.054167</td>\n",
       "    </tr>\n",
       "    <tr>\n",
       "      <th>2020-01-05</th>\n",
       "      <td>-0.004167</td>\n",
       "    </tr>\n",
       "  </tbody>\n",
       "</table>\n",
       "</div>"
      ],
      "text/plain": [
       "            sentiment\n",
       "date                 \n",
       "2020-01-01  -0.031250\n",
       "2020-01-02   0.085606\n",
       "2020-01-03   0.066609\n",
       "2020-01-04   0.054167\n",
       "2020-01-05  -0.004167"
      ]
     },
     "execution_count": 14,
     "metadata": {},
     "output_type": "execute_result"
    }
   ],
   "source": [
    "daily_sentiment = daily_sentiment.resample('D', on='date').mean()\n",
    "daily_sentiment.head()"
   ]
  },
  {
   "cell_type": "code",
   "execution_count": 15,
   "metadata": {},
   "outputs": [
    {
     "data": {
      "image/png": "[encoded data removed]",
      "text/plain": [
       "<Figure size 1152x360 with 1 Axes>"
      ]
     },
     "metadata": {
      "needs_background": "light"
     },
     "output_type": "display_data"
    }
   ],
   "source": [
    "# Find the days with the highest sentiment_2\n",
    "\n",
    "freq_df = daily_sentiment.nlargest(columns=\"sentiment\", n = 10) \n",
    "plt.figure(figsize=(16,5))\n",
    "ax = sns.barplot(data=freq_df, x= freq_df.index.date, y = freq_df['sentiment'])\n",
    "ax.set_ylabel('Average Sentiment Score', fontsize=12)\n",
    "ax.set_xlabel('Date', fontsize=16)\n",
    "ax.set_xticklabels(ax.get_xticklabels(), rotation=40, ha=\"right\", fontsize=12)\n",
    "ax.set_title('Top Daily Sentiment Scores', fontsize=22)\n",
    "plt.show()"
   ]
  },
  {
   "cell_type": "code",
   "execution_count": 16,
   "metadata": {},
   "outputs": [
    {
     "data": {
      "image/png": "[encoded data removed]",
      "text/plain": [
       "<Figure size 1152x360 with 1 Axes>"
      ]
     },
     "metadata": {
      "needs_background": "light"
     },
     "output_type": "display_data"
    }
   ],
   "source": [
    "freq_df = daily_sentiment.nsmallest(columns=\"sentiment\", n = 10) \n",
    "plt.figure(figsize=(16,5))\n",
    "ax = sns.barplot(data=freq_df, x= freq_df.index.date, y = freq_df['sentiment'])\n",
    "ax.set_ylabel('Average Sentiment Score', fontsize=12)\n",
    "ax.set_xlabel('Date', fontsize=16)\n",
    "ax.set_xticklabels(ax.get_xticklabels(), rotation=40, ha=\"right\", fontsize=12)\n",
    "ax.set_title('Lowest Daily Sentiment Scores', fontsize=22)\n",
    "\n",
    "plt.show()"
   ]
  },
  {
   "cell_type": "markdown",
   "metadata": {},
   "source": [
    "### 4. Remove Tweets with Sentiment Scores of 0"
   ]
  },
  {
   "cell_type": "code",
   "execution_count": 17,
   "metadata": {},
   "outputs": [
    {
     "data": {
      "text/html": [
       "<div>\n",
       "<style scoped>\n",
       "    .dataframe tbody tr th:only-of-type {\n",
       "        vertical-align: middle;\n",
       "    }\n",
       "\n",
       "    .dataframe tbody tr th {\n",
       "        vertical-align: top;\n",
       "    }\n",
       "\n",
       "    .dataframe thead th {\n",
       "        text-align: right;\n",
       "    }\n",
       "</style>\n",
       "<table border=\"1\" class=\"dataframe\">\n",
       "  <thead>\n",
       "    <tr style=\"text-align: right;\">\n",
       "      <th></th>\n",
       "      <th>id</th>\n",
       "      <th>date</th>\n",
       "      <th>cleaned_tweet</th>\n",
       "      <th>sentiment</th>\n",
       "      <th>binned</th>\n",
       "    </tr>\n",
       "  </thead>\n",
       "  <tbody>\n",
       "    <tr>\n",
       "      <th>0</th>\n",
       "      <td>1212423892784078848</td>\n",
       "      <td>2020-01-02</td>\n",
       "      <td>pick decade roku roku tradedesk ttd alteryex ayx mongodb mdb datadog ddog shopify shop twilo twlo pagerduty pd   suare s workday wday paypal pypl fingures cross</td>\n",
       "      <td>0.0</td>\n",
       "      <td>(-0.2, 0.0]</td>\n",
       "    </tr>\n",
       "    <tr>\n",
       "      <th>1</th>\n",
       "      <td>1212388005337395200</td>\n",
       "      <td>2020-01-02</td>\n",
       "      <td>recent earnings uarter  beat earnings revenue check uick video  stock</td>\n",
       "      <td>0.0</td>\n",
       "      <td>(-0.2, 0.0]</td>\n",
       "    </tr>\n",
       "    <tr>\n",
       "      <th>2</th>\n",
       "      <td>1212327513906499584</td>\n",
       "      <td>2020-01-01</td>\n",
       "      <td>enters uptrend momentum indicator exceed level december view odds indicator</td>\n",
       "      <td>0.0</td>\n",
       "      <td>(-0.2, 0.0]</td>\n",
       "    </tr>\n",
       "    <tr>\n",
       "      <th>3</th>\n",
       "      <td>1212295019937378305</td>\n",
       "      <td>2020-01-01</td>\n",
       "      <td>benchmark boost   price target</td>\n",
       "      <td>0.0</td>\n",
       "      <td>(-0.2, 0.0]</td>\n",
       "    </tr>\n",
       "    <tr>\n",
       "      <th>4</th>\n",
       "      <td>1212285745848827905</td>\n",
       "      <td>2020-01-01</td>\n",
       "      <td>buy  stock rebound demand come analyst say barron</td>\n",
       "      <td>0.0</td>\n",
       "      <td>(-0.2, 0.0]</td>\n",
       "    </tr>\n",
       "  </tbody>\n",
       "</table>\n",
       "</div>"
      ],
      "text/plain": [
       "                    id       date  \\\n",
       "0  1212423892784078848 2020-01-02   \n",
       "1  1212388005337395200 2020-01-02   \n",
       "2  1212327513906499584 2020-01-01   \n",
       "3  1212295019937378305 2020-01-01   \n",
       "4  1212285745848827905 2020-01-01   \n",
       "\n",
       "                                                                                                                                                      cleaned_tweet  \\\n",
       "0  pick decade roku roku tradedesk ttd alteryex ayx mongodb mdb datadog ddog shopify shop twilo twlo pagerduty pd   suare s workday wday paypal pypl fingures cross   \n",
       "1                                                                                             recent earnings uarter  beat earnings revenue check uick video  stock   \n",
       "2                                                                                       enters uptrend momentum indicator exceed level december view odds indicator   \n",
       "3                                                                                                                                    benchmark boost   price target   \n",
       "4                                                                                                                buy  stock rebound demand come analyst say barron    \n",
       "\n",
       "   sentiment       binned  \n",
       "0        0.0  (-0.2, 0.0]  \n",
       "1        0.0  (-0.2, 0.0]  \n",
       "2        0.0  (-0.2, 0.0]  \n",
       "3        0.0  (-0.2, 0.0]  \n",
       "4        0.0  (-0.2, 0.0]  "
      ]
     },
     "execution_count": 17,
     "metadata": {},
     "output_type": "execute_result"
    }
   ],
   "source": [
    "remove_s1_0 = tweets.copy()\n",
    "remove_s1_0.head()"
   ]
  },
  {
   "cell_type": "code",
   "execution_count": 18,
   "metadata": {},
   "outputs": [
    {
     "name": "stdout",
     "output_type": "stream",
     "text": [
      "There are 27805 tweets with a Sentiment Score of 0\n"
     ]
    }
   ],
   "source": [
    "# Check how many tweets had sentiment scores of 0\n",
    "print('There are ' + str((remove_s1_0.sentiment == 0).sum()) + ' tweets with a Sentiment Score of 0')"
   ]
  },
  {
   "cell_type": "code",
   "execution_count": 19,
   "metadata": {},
   "outputs": [
    {
     "data": {
      "text/plain": [
       "0"
      ]
     },
     "execution_count": 19,
     "metadata": {},
     "output_type": "execute_result"
    }
   ],
   "source": [
    "# Remove tweets with 0 for sentiment_2 scores\n",
    "remove_0 = tweets.copy()\n",
    "remove_0 = remove_0.rename(columns={'sentiment':'s_no_0'})\n",
    "remove_0 = remove_0[remove_0.s_no_0 != 0]\n",
    "(remove_0.s_no_0 == 0).sum()"
   ]
  },
  {
   "cell_type": "code",
   "execution_count": 20,
   "metadata": {},
   "outputs": [],
   "source": [
    "remove_0 = remove_0.groupby(['date'], as_index = False).mean()"
   ]
  },
  {
   "cell_type": "code",
   "execution_count": 21,
   "metadata": {},
   "outputs": [
    {
     "data": {
      "text/plain": [
       "date      0\n",
       "id        0\n",
       "s_no_0    0\n",
       "dtype: int64"
      ]
     },
     "execution_count": 21,
     "metadata": {},
     "output_type": "execute_result"
    }
   ],
   "source": [
    "# Check that there are no null values\n",
    "\n",
    "remove_0.isnull().sum()"
   ]
  },
  {
   "cell_type": "code",
   "execution_count": 22,
   "metadata": {},
   "outputs": [
    {
     "data": {
      "text/html": [
       "<div>\n",
       "<style scoped>\n",
       "    .dataframe tbody tr th:only-of-type {\n",
       "        vertical-align: middle;\n",
       "    }\n",
       "\n",
       "    .dataframe tbody tr th {\n",
       "        vertical-align: top;\n",
       "    }\n",
       "\n",
       "    .dataframe thead th {\n",
       "        text-align: right;\n",
       "    }\n",
       "</style>\n",
       "<table border=\"1\" class=\"dataframe\">\n",
       "  <thead>\n",
       "    <tr style=\"text-align: right;\">\n",
       "      <th></th>\n",
       "      <th>sentiment</th>\n",
       "      <th>sentiment_final</th>\n",
       "    </tr>\n",
       "    <tr>\n",
       "      <th>date</th>\n",
       "      <th></th>\n",
       "      <th></th>\n",
       "    </tr>\n",
       "  </thead>\n",
       "  <tbody>\n",
       "    <tr>\n",
       "      <th>2020-01-01</th>\n",
       "      <td>-0.031250</td>\n",
       "      <td>-0.125000</td>\n",
       "    </tr>\n",
       "    <tr>\n",
       "      <th>2020-01-02</th>\n",
       "      <td>0.085606</td>\n",
       "      <td>0.273939</td>\n",
       "    </tr>\n",
       "    <tr>\n",
       "      <th>2020-01-03</th>\n",
       "      <td>0.066609</td>\n",
       "      <td>0.124337</td>\n",
       "    </tr>\n",
       "    <tr>\n",
       "      <th>2020-01-04</th>\n",
       "      <td>0.054167</td>\n",
       "      <td>0.216667</td>\n",
       "    </tr>\n",
       "    <tr>\n",
       "      <th>2020-01-05</th>\n",
       "      <td>-0.004167</td>\n",
       "      <td>-0.025000</td>\n",
       "    </tr>\n",
       "  </tbody>\n",
       "</table>\n",
       "</div>"
      ],
      "text/plain": [
       "            sentiment  sentiment_final\n",
       "date                                  \n",
       "2020-01-01  -0.031250        -0.125000\n",
       "2020-01-02   0.085606         0.273939\n",
       "2020-01-03   0.066609         0.124337\n",
       "2020-01-04   0.054167         0.216667\n",
       "2020-01-05  -0.004167        -0.025000"
      ]
     },
     "execution_count": 22,
     "metadata": {},
     "output_type": "execute_result"
    }
   ],
   "source": [
    "# Add updated columns back to early_tweets dataframe\n",
    "daily_sentiment['sentiment_final'] = remove_0.s_no_0.values\n",
    "daily_sentiment.head()"
   ]
  },
  {
   "cell_type": "markdown",
   "metadata": {},
   "source": [
    "### 5. Save Sentiment Analysis Results"
   ]
  },
  {
   "cell_type": "code",
   "execution_count": 23,
   "metadata": {},
   "outputs": [],
   "source": [
    "daily_sentiment.to_csv('data/daily_sentiment_scores.csv')"
   ]
  }
 ],
 "metadata": {
  "kernelspec": {
   "display_name": "Python 3",
   "language": "python",
   "name": "python3"
  },
  "language_info": {
   "codemirror_mode": {
    "name": "ipython",
    "version": 3
   },
   "file_extension": ".py",
   "mimetype": "text/x-python",
   "name": "python",
   "nbconvert_exporter": "python",
   "pygments_lexer": "ipython3",
   "version": "3.8.5"
  }
 },
 "nbformat": 4,
 "nbformat_minor": 4
}
