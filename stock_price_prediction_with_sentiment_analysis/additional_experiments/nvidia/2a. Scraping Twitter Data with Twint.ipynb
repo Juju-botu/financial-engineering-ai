{
 "cells": [
  {
   "cell_type": "markdown",
   "id": "d1301e88-62ae-408f-be71-c07d76244fd0",
   "metadata": {},
   "source": [
    "# Data Scraping from Twitter"
   ]
  },
  {
   "cell_type": "code",
   "execution_count": 1,
   "id": "9c1be4e6-76a8-4e25-924a-e9d0fc79921c",
   "metadata": {},
   "outputs": [],
   "source": [
    "# Data scraping\n",
    "# Follow instructions here https://github.com/twintproject/twint/issues/1165\n",
    "# and here https://github.com/twintproject/twint/issues/960\n",
    "import twint # for collecting twitter data\n",
    "import nest_asyncio\n",
    "nest_asyncio.apply()"
   ]
  },
  {
   "cell_type": "code",
   "execution_count": 2,
   "id": "c82e03ce-08ec-4afd-8b92-d9cf5a7b8be7",
   "metadata": {},
   "outputs": [],
   "source": [
    "def get_tweets(start_date, end_date, company_name, company_ticker, lang='en', hide_output=True):\n",
    "    c = twint.Config()\n",
    "    c.Search = company_name, company_ticker\n",
    "    c.Since = start_date\n",
    "    c.Until = end_date\n",
    "    c.Store_csv = True\n",
    "    c.Lang = lang\n",
    "    c.Count = True\n",
    "    c.Hide_output = hide_output\n",
    "    c.Format = \"id: {id} | date: {date} | tweet: {tweet} | retweets_count: {retweets}\"\n",
    "    c.Custom['tweet'] = ['id', 'date', 'tweet', 'retweets_count']\n",
    "    c.Output = 'data/' + company_name + '_data.csv'\n",
    "    twint.run.Search(c)"
   ]
  },
  {
   "cell_type": "markdown",
   "id": "4ddf6bbd-aa1a-462c-bccf-1561069f3c54",
   "metadata": {},
   "source": [
    "### Run the Scraper\n",
    "Setup parameters to use. It will take a while to get all the necessary data from Twitter."
   ]
  },
  {
   "cell_type": "code",
   "execution_count": 3,
   "id": "7d813cdc-5735-4bcb-b92f-491b159d4d8a",
   "metadata": {},
   "outputs": [
    {
     "name": "stdout",
     "output_type": "stream",
     "text": [
      "[!] No more data! Scraping will stop now.\n",
      "found 0 deleted tweets in this search.\n",
      "[+] Finished: Successfully collected 15445 Tweets.\n"
     ]
    }
   ],
   "source": [
    "start, end = '2020-01-01', '2020-12-31' # pass as strings\n",
    "get_tweets(start, end, 'nvidia', 'nvda')"
   ]
  }
 ],
 "metadata": {
  "kernelspec": {
   "display_name": "Python 3",
   "language": "python",
   "name": "python3"
  },
  "language_info": {
   "codemirror_mode": {
    "name": "ipython",
    "version": 3
   },
   "file_extension": ".py",
   "mimetype": "text/x-python",
   "name": "python",
   "nbconvert_exporter": "python",
   "pygments_lexer": "ipython3",
   "version": "3.8.5"
  }
 },
 "nbformat": 4,
 "nbformat_minor": 5
}
