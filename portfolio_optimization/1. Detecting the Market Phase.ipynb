{
 "cells": [
  {
   "cell_type": "code",
   "execution_count": 1,
   "metadata": {},
   "outputs": [],
   "source": [
    "from pandas_datareader import data as web\n",
    "import numpy as np\n",
    "import pandas as pd\n",
    "from sklearn import mixture as mix\n",
    "import seaborn as sns \n",
    "import matplotlib.pyplot as plt"
   ]
  },
  {
   "cell_type": "markdown",
   "metadata": {},
   "source": [
    "### 1. Loading Data"
   ]
  },
  {
   "cell_type": "code",
   "execution_count": 2,
   "metadata": {},
   "outputs": [],
   "source": [
    "df= web.get_data_yahoo('SPY',start= '2000-01-01', end='2020-12-31')\n",
    "df=df[['Open','High','Low', 'Adj Close']]"
   ]
  },
  {
   "cell_type": "markdown",
   "metadata": {},
   "source": [
    "### 2. Detecting Regimes"
   ]
  },
  {
   "cell_type": "code",
   "execution_count": 3,
   "metadata": {},
   "outputs": [],
   "source": [
    "regime_detector = mix.GaussianMixture(n_components=4, \n",
    "                            covariance_type=\"spherical\", \n",
    "                            n_init=100, \n",
    "                            random_state=14)"
   ]
  },
  {
   "cell_type": "code",
   "execution_count": 4,
   "metadata": {},
   "outputs": [],
   "source": [
    "regime_detector.fit(np.reshape(df, (-1, df.shape[1])))\n",
    "regime = regime_detector.predict(np.reshape(df, (-1, df.shape[1])))"
   ]
  },
  {
   "cell_type": "code",
   "execution_count": 5,
   "metadata": {},
   "outputs": [],
   "source": [
    "df['Return']= np.log(df['Adj Close'] / df['Adj Close'].shift(1))"
   ]
  },
  {
   "cell_type": "code",
   "execution_count": 6,
   "metadata": {},
   "outputs": [],
   "source": [
    "regimes = pd.DataFrame(regime, columns=['Regime'],index=df.index)\n",
    "regimes = regimes.join(df, how='inner')\n",
    "regimes['Cumulative Return of U.S. Market'] = df.Return.cumsum()\n",
    "regimes = regimes.reset_index(drop=False)\n",
    "regimes = regimes.rename(columns={'index':'Date'})\n",
    "regimes = regimes.iloc[1:, ]"
   ]
  },
  {
   "cell_type": "code",
   "execution_count": 7,
   "metadata": {},
   "outputs": [
    {
     "data": {
      "text/html": [
       "<div>\n",
       "<style scoped>\n",
       "    .dataframe tbody tr th:only-of-type {\n",
       "        vertical-align: middle;\n",
       "    }\n",
       "\n",
       "    .dataframe tbody tr th {\n",
       "        vertical-align: top;\n",
       "    }\n",
       "\n",
       "    .dataframe thead th {\n",
       "        text-align: right;\n",
       "    }\n",
       "</style>\n",
       "<table border=\"1\" class=\"dataframe\">\n",
       "  <thead>\n",
       "    <tr style=\"text-align: right;\">\n",
       "      <th></th>\n",
       "      <th>Date</th>\n",
       "      <th>Regime</th>\n",
       "      <th>Open</th>\n",
       "      <th>High</th>\n",
       "      <th>Low</th>\n",
       "      <th>Adj Close</th>\n",
       "      <th>Return</th>\n",
       "      <th>Cumulative Return of U.S. Market</th>\n",
       "    </tr>\n",
       "  </thead>\n",
       "  <tbody>\n",
       "    <tr>\n",
       "      <th>1</th>\n",
       "      <td>2000-01-03</td>\n",
       "      <td>0</td>\n",
       "      <td>148.25000</td>\n",
       "      <td>148.25000</td>\n",
       "      <td>143.875000</td>\n",
       "      <td>97.825676</td>\n",
       "      <td>-0.009836</td>\n",
       "      <td>-0.009836</td>\n",
       "    </tr>\n",
       "    <tr>\n",
       "      <th>2</th>\n",
       "      <td>2000-01-04</td>\n",
       "      <td>0</td>\n",
       "      <td>143.53125</td>\n",
       "      <td>144.06250</td>\n",
       "      <td>139.640625</td>\n",
       "      <td>94.000107</td>\n",
       "      <td>-0.039891</td>\n",
       "      <td>-0.049727</td>\n",
       "    </tr>\n",
       "    <tr>\n",
       "      <th>3</th>\n",
       "      <td>2000-01-05</td>\n",
       "      <td>0</td>\n",
       "      <td>139.93750</td>\n",
       "      <td>141.53125</td>\n",
       "      <td>137.250000</td>\n",
       "      <td>94.168259</td>\n",
       "      <td>0.001787</td>\n",
       "      <td>-0.047940</td>\n",
       "    </tr>\n",
       "    <tr>\n",
       "      <th>4</th>\n",
       "      <td>2000-01-06</td>\n",
       "      <td>0</td>\n",
       "      <td>139.62500</td>\n",
       "      <td>141.50000</td>\n",
       "      <td>137.750000</td>\n",
       "      <td>92.654861</td>\n",
       "      <td>-0.016202</td>\n",
       "      <td>-0.064141</td>\n",
       "    </tr>\n",
       "    <tr>\n",
       "      <th>5</th>\n",
       "      <td>2000-01-07</td>\n",
       "      <td>0</td>\n",
       "      <td>140.31250</td>\n",
       "      <td>145.75000</td>\n",
       "      <td>140.062500</td>\n",
       "      <td>98.035896</td>\n",
       "      <td>0.056452</td>\n",
       "      <td>-0.007689</td>\n",
       "    </tr>\n",
       "  </tbody>\n",
       "</table>\n",
       "</div>"
      ],
      "text/plain": [
       "        Date  Regime       Open       High         Low  Adj Close    Return  \\\n",
       "1 2000-01-03       0  148.25000  148.25000  143.875000  97.825676 -0.009836   \n",
       "2 2000-01-04       0  143.53125  144.06250  139.640625  94.000107 -0.039891   \n",
       "3 2000-01-05       0  139.93750  141.53125  137.250000  94.168259  0.001787   \n",
       "4 2000-01-06       0  139.62500  141.50000  137.750000  92.654861 -0.016202   \n",
       "5 2000-01-07       0  140.31250  145.75000  140.062500  98.035896  0.056452   \n",
       "\n",
       "   Cumulative Return of U.S. Market  \n",
       "1                         -0.009836  \n",
       "2                         -0.049727  \n",
       "3                         -0.047940  \n",
       "4                         -0.064141  \n",
       "5                         -0.007689  "
      ]
     },
     "execution_count": 7,
     "metadata": {},
     "output_type": "execute_result"
    }
   ],
   "source": [
    "regimes.head()"
   ]
  },
  {
   "cell_type": "markdown",
   "metadata": {},
   "source": [
    "### 3. Plotting and Analyzing Regimes"
   ]
  },
  {
   "cell_type": "code",
   "execution_count": 63,
   "metadata": {},
   "outputs": [
    {
     "name": "stderr",
     "output_type": "stream",
     "text": [
      "/home/fedebotu/.local/lib/python3.8/site-packages/seaborn/axisgrid.py:316: UserWarning: The `size` parameter has been renamed to `height`; please update your code.\n",
      "  warnings.warn(msg, UserWarning)\n"
     ]
    },
    {
     "data": {
      "image/png": "[encoded data removed]",
      "text/plain": [
       "<Figure size 621.5x288 with 1 Axes>"
      ]
     },
     "metadata": {
      "needs_background": "light"
     },
     "output_type": "display_data"
    }
   ],
   "source": [
    "order=[0,1,2,3,4,5,6]\n",
    "fig = sns.FacetGrid(data= regimes,hue='Regime',hue_order=order,aspect=2,size= 4)\n",
    "fig.map(plt.scatter,'Date', 'Cumulative Return of U.S. Market', s=4).add_legend()\n",
    "plt.savefig('images/market_gaussian.pdf', bbox_inches='tight')\n",
    "plt.show()"
   ]
  },
  {
   "cell_type": "code",
   "execution_count": 9,
   "metadata": {},
   "outputs": [
    {
     "name": "stdout",
     "output_type": "stream",
     "text": [
      "[0, 1, 2, 3, 4, 5, 6]\n"
     ]
    }
   ],
   "source": [
    "print(order)"
   ]
  },
  {
   "cell_type": "code",
   "execution_count": 10,
   "metadata": {},
   "outputs": [
    {
     "name": "stdout",
     "output_type": "stream",
     "text": [
      "- Mean for Regime 0:  137.5967\n",
      "> Covariance for Regime 0:  89.7873\n",
      "- Mean for Regime 1:  284.536\n",
      "> Covariance for Regime 1:  1148.4455\n",
      "- Mean for Regime 2:  197.8587\n",
      "> Covariance for Regime 2:  298.8313\n",
      "- Mean for Regime 3:  106.826\n",
      "> Covariance for Regime 3:  142.6559\n"
     ]
    }
   ],
   "source": [
    "for i in order:\n",
    "    if i > 3: break\n",
    "    mean = round(regime_detector.means_[i][0], 4)\n",
    "    cov = round(regime_detector.covariances_[i], 4)\n",
    "    print('- Mean for Regime %i: '%i,mean)\n",
    "    print('> Covariance for Regime %i: '%i, cov)"
   ]
  },
  {
   "cell_type": "markdown",
   "metadata": {},
   "source": [
    "## 4. Detecting the Market Regime using Hidden Markov Models"
   ]
  },
  {
   "cell_type": "markdown",
   "metadata": {},
   "source": [
    "We assume the system to be\n",
    "Reference: [Here](https://www.quantstart.com/articles/market-regime-detection-using-hidden-markov-models-in-qstrader/)\n"
   ]
  },
  {
   "cell_type": "code",
   "execution_count": 53,
   "metadata": {},
   "outputs": [],
   "source": [
    "from matplotlib import cm, pyplot as plt\n",
    "from matplotlib.dates import YearLocator, MonthLocator\n",
    "from matplotlib.ticker import MaxNLocator\n",
    "from hmmlearn.hmm import GaussianHMM\n",
    "\n",
    "df= web.get_data_yahoo('SPY',start= '2000-01-01', end='2020-12-31')\n",
    "df=df[['Open','High','Low', 'Adj Close']]\n",
    "\n",
    "returns = np.column_stack([df['Adj Close']])"
   ]
  },
  {
   "cell_type": "code",
   "execution_count": 54,
   "metadata": {},
   "outputs": [
    {
     "name": "stdout",
     "output_type": "stream",
     "text": [
      "Model Score: -21414.19798132809\n"
     ]
    }
   ],
   "source": [
    "hmm_model = GaussianHMM(\n",
    "    n_components=4, covariance_type=\"full\", n_iter=1000\n",
    ").fit(returns)\n",
    "print(\"Model Score:\", hmm_model.score(returns))"
   ]
  },
  {
   "cell_type": "code",
   "execution_count": 65,
   "metadata": {},
   "outputs": [],
   "source": [
    "def plot_hidden_states(hmm_model, df, data, \n",
    "                       figsize=(10,10), \n",
    "                       year_loc=True, \n",
    "                       month_loc=False,\n",
    "                       max_tickers=10):\n",
    "    \"\"\"\n",
    "    Plot the adjusted closing prices masked by \n",
    "    the in-sample hidden states as a mechanism\n",
    "    to understand the market regimes.\n",
    "    \"\"\"\n",
    "    # Predict the hidden states array\n",
    "    hidden_states = hmm_model.predict(data)\n",
    "    # Create the correctly formatted plot\n",
    "    fig, axs = plt.subplots(\n",
    "        hmm_model.n_components, \n",
    "        sharex=True, sharey=True,\n",
    "        figsize=figsize\n",
    "    )\n",
    "    colours = cm.rainbow(\n",
    "        np.linspace(0, 1, hmm_model.n_components)\n",
    "    )\n",
    "    fig.autofmt_xdate()\n",
    "\n",
    "    for i, (ax, colour) in enumerate(zip(axs, colours)):\n",
    "        mask = hidden_states == i\n",
    "        ax.plot_date(\n",
    "            df.index[mask], \n",
    "            df[\"Adj Close\"][mask], \n",
    "            \".\", linestyle='none', \n",
    "            c=colour\n",
    "        )\n",
    "        ax.set_title(\"Hidden State #%s\" % i)\n",
    "        if year_loc: ax.xaxis.set_major_locator(YearLocator())\n",
    "        if month_loc: ax.xaxis.set_minor_locator(MonthLocator())\n",
    "        ax.grid(True)"
   ]
  },
  {
   "cell_type": "code",
   "execution_count": 66,
   "metadata": {},
   "outputs": [
    {
     "data": {
      "image/png": "[encoded data removed]",
      "text/plain": [
       "<Figure size 720x720 with 4 Axes>"
      ]
     },
     "metadata": {
      "needs_background": "light"
     },
     "output_type": "display_data"
    }
   ],
   "source": [
    "plot_hidden_states(hmm_model, df, returns, figsize=(10,10), year_loc=True, month_loc=False, max_tickers=7)\n",
    "plt.savefig('images/hidden_markov.pdf', bbox_inches='tight')"
   ]
  }
 ],
 "metadata": {
  "kernelspec": {
   "display_name": "Python 3",
   "language": "python",
   "name": "python3"
  },
  "language_info": {
   "codemirror_mode": {
    "name": "ipython",
    "version": 3
   },
   "file_extension": ".py",
   "mimetype": "text/x-python",
   "name": "python",
   "nbconvert_exporter": "python",
   "pygments_lexer": "ipython3",
   "version": "3.8.5"
  }
 },
 "nbformat": 4,
 "nbformat_minor": 4
}
